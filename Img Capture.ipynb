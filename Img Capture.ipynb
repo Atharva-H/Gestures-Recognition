{
 "cells": [
  {
   "cell_type": "code",
   "execution_count": 1,
   "id": "competent-google",
   "metadata": {},
   "outputs": [],
   "source": [
    "import cv2\n",
    "import os\n",
    "import uuid\n",
    "import time"
   ]
  },
  {
   "cell_type": "code",
   "execution_count": 2,
   "id": "concrete-greenhouse",
   "metadata": {},
   "outputs": [],
   "source": [
    "IMAGEPATH='Image/collectionimages'"
   ]
  },
  {
   "cell_type": "code",
   "execution_count": 4,
   "id": "developmental-starter",
   "metadata": {},
   "outputs": [],
   "source": [
    "labels=['open_pam']\n",
    "numberofimg=20"
   ]
  },
  {
   "cell_type": "code",
   "execution_count": 5,
   "id": "competitive-kenya",
   "metadata": {},
   "outputs": [
    {
     "name": "stdout",
     "output_type": "stream",
     "text": [
      "Collection imf for open_pam\n"
     ]
    }
   ],
   "source": [
    "for label in labels:\n",
    "    !mkdir {'Images\\collectionimages\\\\'+label}\n",
    "    cap = cv2.VideoCapture(0)\n",
    "    print('Collection imf for {}'.format(label))\n",
    "    time.sleep(5)\n",
    "    for imgnum in range(numberofimg):\n",
    "        ret,frame=cap.read()\n",
    "        imagename=os.path.join(IMAGEPATH, label, label+'.'+'{}.jpg'.format(str(uuid.uuid1())))\n",
    "        cv2.imwrite(imagename,frame)\n",
    "        cv2.imshow('frame',frame)\n",
    "        time.sleep(1)\n",
    "        \n",
    "        if cv2.waitKey(1) & 0xFF == ord('q'):\n",
    "            break\n",
    "    cap.release()"
   ]
  },
  {
   "cell_type": "code",
   "execution_count": null,
   "id": "japanese-plant",
   "metadata": {},
   "outputs": [],
   "source": []
  }
 ],
 "metadata": {
  "kernelspec": {
   "display_name": "Python 3",
   "language": "python",
   "name": "python3"
  },
  "language_info": {
   "codemirror_mode": {
    "name": "ipython",
    "version": 3
   },
   "file_extension": ".py",
   "mimetype": "text/x-python",
   "name": "python",
   "nbconvert_exporter": "python",
   "pygments_lexer": "ipython3",
   "version": "3.7.6"
  }
 },
 "nbformat": 4,
 "nbformat_minor": 5
}
